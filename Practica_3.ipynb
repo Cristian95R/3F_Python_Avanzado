{
 "cells": [
  {
   "cell_type": "code",
   "execution_count": null,
   "metadata": {},
   "outputs": [],
   "source": [
    "#Ejercicio 1 \n",
    "var_1 = float(input(\"Ingrese 1er número: \"))\n",
    "var_2 = float(input(\"Ingrese 2do número: \"))\n",
    "print (\"El 2do numero es el mas alto\" if var_1 < var_2 else \"El 1er numero es el mas alto\" )"
   ]
  },
  {
   "cell_type": "code",
   "execution_count": null,
   "metadata": {},
   "outputs": [],
   "source": [
    "#Ejercicio 2 \n",
    "palabras = []\n",
    "\n",
    "def palabras_evluar(letra, *palabras_1):\n",
    "    print(\"Lista de Palabras que comienzan con\", letra + \":\")\n",
    "    for p in palabras_1:\n",
    "        if p.startswith(letra):\n",
    "            print(\"-\", p)\n",
    "\n",
    "vueltas = int(input(\"Ingrese cantidad de palabras a ingresar: \"))\n",
    "for i in range(vueltas):\n",
    "    palabra = input(f\"Ingresá palabra {i+1} que comience con la letra M: \")\n",
    "    palabras.append(palabra)\n",
    "\n",
    "palabras_evluar(\"M\", *palabras)"
   ]
  },
  {
   "cell_type": "code",
   "execution_count": null,
   "metadata": {},
   "outputs": [],
   "source": [
    "# Ejercicio 3\n",
    "numeros = []\n",
    "\n",
    "def numeros_evluar(*palabras_1):\n",
    "    for p in palabras_1:\n",
    "        if p % 2 == 0:\n",
    "            print(\"Número par:\", p)\n",
    "        else:\n",
    "            print(\"Número impar:\", p)\n",
    "\n",
    "vueltas = int(input(\"Ingrese cantidad de números a ingresar: \"))\n",
    "for i in range(vueltas):\n",
    "    numero = int(input(f\"Ingrese número {i+1}: \"))\n",
    "    numeros.append(numero)\n",
    "\n",
    "numeros_evluar(*numeros)  \n"
   ]
  },
  {
   "cell_type": "code",
   "execution_count": null,
   "metadata": {},
   "outputs": [],
   "source": [
    "# Ejercicio 4\n",
    "numeros = []\n",
    "\n",
    "def numeros_evluar(*palabras_1):\n",
    "    suma = 0\n",
    "    cantidad = 0\n",
    "\n",
    "    for p in palabras_1:\n",
    "        if isinstance(p, float):\n",
    "            suma += p\n",
    "            cantidad += 1\n",
    "        else:\n",
    "            print(\"Se ingresó un dato que no es número:\", p)\n",
    "\n",
    "    if cantidad > 0:\n",
    "        promedio = suma / cantidad\n",
    "        print(\"El promedio es:\", promedio)\n",
    "    else:\n",
    "        print(\"No se ingresaron números válidos.\")\n",
    "\n",
    "vueltas = int(input(\"Ingrese cantidad de números a ingresar: \"))\n",
    "for i in range(vueltas):\n",
    "    try:\n",
    "        numero = float(input(f\"Ingrese número {i+1}: \"))\n",
    "        numeros.append(numero)\n",
    "    except ValueError:\n",
    "        print(\"Eso no es un número válido.\")\n",
    "\n",
    "numeros_evluar(*numeros)\n"
   ]
  },
  {
   "cell_type": "code",
   "execution_count": null,
   "metadata": {},
   "outputs": [],
   "source": [
    "#Ejercicio 5\n",
    "numeros = []\n",
    "\n",
    "def numeros_evluar(*palabras_1):\n",
    "    suma = 0\n",
    "    cantidad = 0\n",
    "\n",
    "    for p in palabras_1:\n",
    "        if isinstance(p, float):\n",
    "            suma += p\n",
    "            cantidad += 1\n",
    "        else:\n",
    "            print(\"Se ingresó un dato que no es número:\", p)\n",
    "\n",
    "    if cantidad > 0:\n",
    "        promedio = suma / cantidad\n",
    "        print(\"El promedio es:\", promedio)\n",
    "    else:\n",
    "        print(\"No se ingresaron números válidos.\")\n",
    "try:\n",
    "    vueltas = int(input(\"Ingrese un número mayor a 2: \"))\n",
    "    if vueltas <= 2:\n",
    "        print(\" El número debe ser mayor a 2.\")\n",
    "    else:\n",
    "        print(\"Número correcto:\", vueltas)\n",
    "except ValueError:\n",
    "    print(\"Eso no es un número válido.\")\n",
    "for i in range(vueltas):\n",
    "    try:\n",
    "        numero = float(input(f\"Ingrese número {i+1}: \"))\n",
    "        numeros.append(numero)\n",
    "    except ValueError:\n",
    "        print(\"Eso no es un número válido.\")\n",
    "\n",
    "numeros_evluar(*numeros)"
   ]
  }
 ],
 "metadata": {
  "kernelspec": {
   "display_name": "base",
   "language": "python",
   "name": "python3"
  },
  "language_info": {
   "codemirror_mode": {
    "name": "ipython",
    "version": 3
   },
   "file_extension": ".py",
   "mimetype": "text/x-python",
   "name": "python",
   "nbconvert_exporter": "python",
   "pygments_lexer": "ipython3",
   "version": "3.12.7"
  }
 },
 "nbformat": 4,
 "nbformat_minor": 2
}
