{
 "cells": [
  {
   "cell_type": "code",
   "execution_count": 36,
   "metadata": {},
   "outputs": [
    {
     "name": "stdout",
     "output_type": "stream",
     "text": [
      "No se puede dividir por cero\n"
     ]
    }
   ],
   "source": [
    "#Ejercicio 1\n",
    "dividendo = float(input(\"Ingrese Dividendo: \"))\n",
    "divisor = float(input(\"Ingrese Divisor: \"))\n",
    "try:\n",
    "    rta = dividendo/divisor\n",
    "    print(\"El resultado es: \")\n",
    "except ZeroDivisionError as Z :\n",
    "    print(f\"No se puede dividir por cero\")\n",
    "else:\n",
    "    print(rta)\n"
   ]
  },
  {
   "cell_type": "code",
   "execution_count": null,
   "metadata": {},
   "outputs": [
    {
     "name": "stdout",
     "output_type": "stream",
     "text": [
      "Error no se puede sumar una cadena con un nro\n"
     ]
    }
   ],
   "source": [
    "#Ejercicio 2\n",
    "nro = 4\n",
    "cadena = [2,3,4]\n",
    "try:\n",
    "    rta_2 = nro + cadena\n",
    "    print(\"El resultado es: \")\n",
    "except TypeError as T : \n",
    "    print(\"Error, no se puede sumar una cadena con un nro\")\n",
    "else: print (rta_2)"
   ]
  },
  {
   "cell_type": "code",
   "execution_count": null,
   "metadata": {},
   "outputs": [
    {
     "name": "stdout",
     "output_type": "stream",
     "text": [
      "46\n",
      "El campo 'Correo' no pertenece al diccionario\n"
     ]
    }
   ],
   "source": [
    "#Ejercicio 3 \n",
    "diccionario = {\"Nombre\" : \"Jaime\" , \"Edad\" : 46}\n",
    "print(diccionario[\"Edad\"])\n",
    "try:\n",
    "    rta_3= diccionario[\"Correo\"]\n",
    "except KeyError as K:\n",
    "    print(\"El campo '\" + K.args[0] + \"' no pertenece al diccionario\")\n",
    "else: print(rta_3)"
   ]
  },
  {
   "cell_type": "code",
   "execution_count": null,
   "metadata": {},
   "outputs": [
    {
     "name": "stdout",
     "output_type": "stream",
     "text": [
      "El archivo: C:\\Users\\Cristian\\Downloads\\Python_3F\\Clase 2\\datos.txt no se encuentra\n",
      "Se creará el archivo en blanco\n",
      "El archivo se creo con exito\n"
     ]
    }
   ],
   "source": [
    "#Ejercicio 4\n",
    "\n",
    "url = \"C:\\\\Users\\\\Cristian\\\\Downloads\\\\Python_3F\\\\Clase 2\\\\datos.txt\"\n",
    "\n",
    "try: \n",
    "    archivo = open(url)\n",
    "except FileNotFoundError as F:\n",
    "    print(\"El archivo: \" + F.filename + \" no se encuentra\")\n",
    "    print(\"Se creará el archivo en blanco\")\n",
    "    archivo = open(url,\"w\")\n",
    "    print(\"El archivo se creo con exito\")\n",
    "    archivo.close()\n",
    "    \n",
    "else:\n",
    "    contenido = archivo.read() \n",
    "    archivo.close()\n",
    "    print(contenido)\n"
   ]
  },
  {
   "cell_type": "code",
   "execution_count": 42,
   "metadata": {},
   "outputs": [
    {
     "name": "stdout",
     "output_type": "stream",
     "text": [
      "No se puede dividir por cero\n"
     ]
    }
   ],
   "source": [
    "#Ejercicio 5\n",
    "dividendo = input(\"Ingrese Dividendo: \")\n",
    "divisor = input(\"Ingrese Divisor: \")\n",
    "try:\n",
    "    rta = float(dividendo)/float(divisor)\n",
    "    \n",
    "except ZeroDivisionError as Z :\n",
    "    print(f\"No se puede dividir por cero\")\n",
    "\n",
    "except ValueError as V:\n",
    "    print(\"El valor ingresado \" + V.args[0] + \" no es correcto\")\n",
    "\n",
    "else:\n",
    "    print(\"El resultado es: \", rta)"
   ]
  }
 ],
 "metadata": {
  "kernelspec": {
   "display_name": "base",
   "language": "python",
   "name": "python3"
  },
  "language_info": {
   "codemirror_mode": {
    "name": "ipython",
    "version": 3
   },
   "file_extension": ".py",
   "mimetype": "text/x-python",
   "name": "python",
   "nbconvert_exporter": "python",
   "pygments_lexer": "ipython3",
   "version": "3.12.7"
  }
 },
 "nbformat": 4,
 "nbformat_minor": 2
}
